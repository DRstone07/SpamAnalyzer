{
 "cells": [
  {
   "cell_type": "code",
   "execution_count": 1,
   "id": "a888f252",
   "metadata": {},
   "outputs": [
    {
     "name": "stdout",
     "output_type": "stream",
     "text": [
      "Writing app.py\n"
     ]
    }
   ],
   "source": [
    "%%writefile app.py\n",
    "import streamlit as st\n",
    "import matplotlib.pyplot as plt\n",
    "import seaborn as sns\n",
    "import pandas as pd\n",
    "from sklearn.feature_extraction.text import TfidfVectorizer\n",
    "from sklearn.naive_bayes import MultinomialNB\n",
    "from sklearn.pipeline import Pipeline\n",
    "from sklearn.model_selection import train_test_split\n",
    "\n",
    "df = pd.read_csv(\"spam.csv\", encoding='latin-1')\n",
    "\n",
    "# Splitting the dataset into training and testing sets\n",
    "X = df['Message']\n",
    "y = df['Category']\n",
    "X_train, X_test, y_train, y_test = train_test_split(X, y, test_size=0.2, random_state=42)\n",
    "\n",
    "# Building and train the Naive Bayes model using a pipeline\n",
    "model_pipeline = Pipeline([\n",
    "    ('tfidf', TfidfVectorizer(stop_words='english')),\n",
    "    ('nb', MultinomialNB(alpha=0.1))\n",
    "])\n",
    "model_pipeline.fit(X_train, y_train)\n",
    "\n",
    "# Streamlit App\n",
    "st.title(\"Email Spam Detection System\")\n",
    "st.markdown(\"Enter your email message below and click **Check** to determine if it is spam.\")\n",
    "\n",
    "# Text input area\n",
    "user_message = st.text_area(\"Enter your message here:\")\n",
    "\n",
    "if st.button(\"Check\"):\n",
    "    if user_message.strip() == \"\":\n",
    "        st.error(\"Please enter a message to analyze.\")\n",
    "    else:\n",
    "        prediction = model_pipeline.predict([user_message])[0]\n",
    "        if prediction.lower() == \"spam\":\n",
    "            st.error(\"The message is **spam**.\")\n",
    "        else:\n",
    "            st.success(\"The message is **legitimate (not spam)**.\")\n",
    "        \n",
    "        # Pie chart for dataset distribution\n",
    "        fig, ax = plt.subplots()\n",
    "        ax.pie(label_counts, labels=label_counts.index, autopct='%1.1f%%', startangle=90, colors=['#ff9999','#99ff99'])\n",
    "        ax.set_title(\"Dataset Distribution: Spam vs. Legitimate\")\n",
    "        st.pyplot(fig)"
   ]
  },
  {
   "cell_type": "code",
   "execution_count": null,
   "id": "02151fc9",
   "metadata": {},
   "outputs": [],
   "source": [
    "# !streamlit run app.py"
   ]
  },
  {
   "cell_type": "code",
   "execution_count": null,
   "id": "a7655ebc",
   "metadata": {},
   "outputs": [],
   "source": []
  }
 ],
 "metadata": {
  "kernelspec": {
   "display_name": "Python 3 (ipykernel)",
   "language": "python",
   "name": "python3"
  },
  "language_info": {
   "codemirror_mode": {
    "name": "ipython",
    "version": 3
   },
   "file_extension": ".py",
   "mimetype": "text/x-python",
   "name": "python",
   "nbconvert_exporter": "python",
   "pygments_lexer": "ipython3",
   "version": "3.11.9"
  }
 },
 "nbformat": 4,
 "nbformat_minor": 5
}
